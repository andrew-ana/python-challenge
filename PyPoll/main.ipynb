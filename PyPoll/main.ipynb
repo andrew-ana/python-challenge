{
 "cells": [
  {
   "cell_type": "code",
   "execution_count": 1,
   "id": "honey-thousand",
   "metadata": {},
   "outputs": [],
   "source": [
    "## OMIMP\n",
    "## Andrew Anastasiades\n",
    "\n",
    "#  O   M   I   M   P  \n",
    "#  H   A       I   A  \n",
    "#      N       S   N\n",
    "#              S   D\n",
    "#                  A\n",
    "#                  S"
   ]
  },
  {
   "cell_type": "code",
   "execution_count": 2,
   "id": "finished-beauty",
   "metadata": {},
   "outputs": [],
   "source": [
    "## DEPENDENCIES\n",
    "import os\n",
    "import csv"
   ]
  },
  {
   "cell_type": "code",
   "execution_count": 3,
   "id": "polished-character",
   "metadata": {},
   "outputs": [],
   "source": [
    "## FILE PATHS\n",
    "election_data_path = os.path.join(\"Resources\", \"election_data.csv\") #Election Data File Path\n",
    "results_file_path = os.path.join(\"Analysis\",\"Election Results.txt\")"
   ]
  },
  {
   "cell_type": "code",
   "execution_count": null,
   "id": "timely-arena",
   "metadata": {},
   "outputs": [],
   "source": []
  }
 ],
 "metadata": {
  "kernelspec": {
   "display_name": "Python [conda env:PythonData] *",
   "language": "python",
   "name": "conda-env-PythonData-py"
  },
  "language_info": {
   "codemirror_mode": {
    "name": "ipython",
    "version": 3
   },
   "file_extension": ".py",
   "mimetype": "text/x-python",
   "name": "python",
   "nbconvert_exporter": "python",
   "pygments_lexer": "ipython3",
   "version": "3.6.10"
  }
 },
 "nbformat": 4,
 "nbformat_minor": 5
}
