{
 "cells": [
  {
   "cell_type": "code",
   "execution_count": 1,
   "id": "adverse-cleaner",
   "metadata": {},
   "outputs": [],
   "source": [
    "## OMIMP\n",
    "## Andrew Anastasiades\n",
    "\n",
    "#  O   M   I   M   P  \n",
    "#  H   A       I   A  \n",
    "#      N       S   N\n",
    "#              S   D\n",
    "#                  A\n",
    "#                  S"
   ]
  },
  {
   "cell_type": "code",
   "execution_count": 2,
   "id": "inappropriate-narrow",
   "metadata": {},
   "outputs": [],
   "source": [
    "## DEPENDENCIES\n",
    "import os\n",
    "import csv"
   ]
  },
  {
   "cell_type": "code",
   "execution_count": 3,
   "id": "loaded-posting",
   "metadata": {},
   "outputs": [],
   "source": [
    "## FILE PATHS\n",
    "election_data_path = os.path.join(\"Resources\", \"election_data.csv\") #Election Data File Path\n",
    "results_file_path = os.path.join(\"Analysis\",\"Election Results.txt\")"
   ]
  },
  {
   "cell_type": "code",
   "execution_count": 4,
   "id": "every-poland",
   "metadata": {},
   "outputs": [],
   "source": [
    "##READ FILE\n",
    "data_list = list() #List to hold rows #OMIMP\n",
    "with open(election_data_path) as election_file:\n",
    "    csvreader = csv.reader(election_file, delimiter=',') #Reader Object\n",
    "    header = next(csvreader) # Get Column Heads #OMIMP\n",
    "    for row in csvreader:\n",
    "        data_list.append(row)\n",
    "    #Now we can close File"
   ]
  },
  {
   "cell_type": "code",
   "execution_count": 5,
   "id": "included-medicine",
   "metadata": {},
   "outputs": [],
   "source": [
    "## ANALYZE DATA\n",
    "#List Comprehensions\n",
    "id_list = [row[0] for row in data_list]\n",
    "county_list = [row[1] for row in data_list]\n",
    "cand_list = [row[2] for row in data_list]\n",
    "#Results\n",
    "total_votes = len(data_list) #totals\n",
    "candidates = list(set(cand_list)) #Make a list of unique Candidates\n",
    "votes_by_cand = [cand_list.count(candidate) for candidate in candidates] #Make a list of vote totals\n",
    "percent_by_cand = [(votes/total_votes)*100 for votes in votes_by_cand] #Make a list of %s\n",
    "#Let's Consolidate the lists so we can sort (also I am now formatting my %s)\n",
    "result_list = [[candidates[i], votes_by_cand[i], \"{:.3f}\".format(percent_by_cand[i])] for i in range(len(candidates))]\n",
    "sorted_results = sorted(result_list, key=lambda x : x[1], reverse=True) #Ok, I admit we haven't covered lamba yet\n",
    "winner = sorted_results[0][0]"
   ]
  },
  {
   "cell_type": "code",
   "execution_count": 6,
   "id": "established-agreement",
   "metadata": {},
   "outputs": [
    {
     "name": "stdout",
     "output_type": "stream",
     "text": [
      "Election Results\n",
      "--------------------------\n",
      "Total Votes: 3521001\n",
      "--------------------------\n",
      "Khan: 63.000% (2218231)\n",
      "Correy: 20.000% (704200)\n",
      "Li: 14.000% (492940)\n",
      "O'Tooley: 3.000% (105630)\n",
      "--------------------------\n",
      "Winner: Khan\n",
      "--------------------------\n"
     ]
    }
   ],
   "source": [
    "##WRITE RESULTS \n",
    "with open(results_file_path, \"w\") as results:\n",
    "    \n",
    "    results.write(f\"Election Results\")\n",
    "    results.write(\"\\n\")\n",
    "    print(f\"Election Results\")\n",
    "    \n",
    "    results.write(f\"--------------------------\")\n",
    "    results.write(\"\\n\")\n",
    "    print(f\"--------------------------\")\n",
    "    \n",
    "    results.write(f\"Total Votes: {total_votes}\")\n",
    "    results.write(\"\\n\")\n",
    "    print(f\"Total Votes: {total_votes}\")\n",
    "    \n",
    "    results.write(f\"--------------------------\")\n",
    "    results.write(\"\\n\")\n",
    "    print(f\"--------------------------\")\n",
    "    \n",
    "    for each in sorted_results:\n",
    "        results.write(f\"{each[0]}: {each[2]}% ({each[1]})\")\n",
    "        results.write(\"\\n\")\n",
    "        print(f\"{each[0]}: {each[2]}% ({each[1]})\")\n",
    "\n",
    "    results.write(f\"--------------------------\")\n",
    "    results.write(\"\\n\")\n",
    "    print(f\"--------------------------\")\n",
    "    \n",
    "    results.write(f\"Winner: {winner}\")\n",
    "    results.write(\"\\n\")\n",
    "    print(f\"Winner: {winner}\")\n",
    "    \n",
    "    results.write(f\"--------------------------\")\n",
    "    results.write(\"\\n\")\n",
    "    print(f\"--------------------------\")"
   ]
  },
  {
   "cell_type": "code",
   "execution_count": null,
   "id": "green-damages",
   "metadata": {},
   "outputs": [],
   "source": []
  },
  {
   "cell_type": "code",
   "execution_count": null,
   "id": "starting-somalia",
   "metadata": {},
   "outputs": [],
   "source": []
  }
 ],
 "metadata": {
  "kernelspec": {
   "display_name": "Python [conda env:PythonData] *",
   "language": "python",
   "name": "conda-env-PythonData-py"
  },
  "language_info": {
   "codemirror_mode": {
    "name": "ipython",
    "version": 3
   },
   "file_extension": ".py",
   "mimetype": "text/x-python",
   "name": "python",
   "nbconvert_exporter": "python",
   "pygments_lexer": "ipython3",
   "version": "3.6.10"
  }
 },
 "nbformat": 4,
 "nbformat_minor": 5
}
