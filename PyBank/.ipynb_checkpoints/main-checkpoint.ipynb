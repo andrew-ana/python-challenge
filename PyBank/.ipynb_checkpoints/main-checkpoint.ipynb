{
 "cells": [
  {
   "cell_type": "markdown",
   "id": "sensitive-raise",
   "metadata": {},
   "source": [
    "# Python Homework - Py Me Up, Charlie\n",
    "\n",
    "## Background\n",
    "\n",
    "Well... you've made it!\n",
    "\n",
    "It's time to put away the Excel sheet and join the big leagues. Welcome to the world of programming with Python. In this homework assignment, you'll be using the concepts you've learned to complete the **two** Python Challenges, PyBank and PyPoll.\n",
    "\n",
    "Both of these challenges encompass a real-world situation where your newfound Python scripting skills can come in handy. These challenges are far from easy so expect some hard work ahead!\n",
    "\n",
    "### Before You Begin\n",
    "\n",
    "* Create a new repository for this project called `python-challenge`. **Do not add this homework to an existing repository**.\n",
    "\n",
    "* Clone the new repository to your computer.\n",
    "\n",
    "* Inside your local git repository, create a directory for each Python Challenge. Use folder names corresponding to the challenges: **PyBank** and  **PyPoll**.\n",
    "\n",
    "* Inside of each folder that you just created, add the following:\n",
    "\n",
    "  * A new file called `main.py`. This will be the main script to run for each analysis.\n",
    "  * A \"Resources\" folder that contains the CSV files you used. Make sure your script has the correct path to the CSV file.\n",
    "  * An \"analysis\" folder that contains your text file that has the results from your analysis.\n",
    "\n",
    "* Push the above changes to GitHub or GitLab.\n",
    "\n",
    "## PyBank\n",
    "\n",
    "![Revenue](Images/revenue-per-lead.png)\n",
    "\n",
    "* In this challenge, you are tasked with creating a Python script for analyzing the financial records of your company. You will give a set of financial data called [budget_data.csv](PyBank/Resources/budget_data.csv). The dataset is composed of two columns: `Date` and `Profit/Losses`. (Thankfully, your company has rather lax standards for accounting so the records are simple.)\n",
    "\n",
    "* Your task is to create a Python script that analyzes the records to calculate each of the following:\n",
    "\n",
    "  * The total number of months included in the dataset\n",
    "\n",
    "  * The net total amount of \"Profit/Losses\" over the entire period\n",
    "\n",
    "  * Calculate the changes in \"Profit/Losses\" over the entire period, then find the average of those changes\n",
    "\n",
    "  * The greatest increase in profits (date and amount) over the entire period\n",
    "\n",
    "  * The greatest decrease in losses (date and amount) over the entire period\n",
    "\n",
    "* As an example, your analysis should look similar to the one below:\n",
    "\n",
    "  ```text\n",
    "  Financial Analysis\n",
    "  ----------------------------\n",
    "  Total Months: 86\n",
    "  Total: $38382578\n",
    "  Average  Change: $-2315.12\n",
    "  Greatest Increase in Profits: Feb-2012 ($1926159)\n",
    "  Greatest Decrease in Profits: Sep-2013 ($-2196167)\n",
    "  ```\n",
    "\n",
    "* In addition, your final script should both print the analysis to the terminal and export a text file with the results.\n",
    "\n",
    "## PyPoll\n",
    "\n",
    "![Vote Counting](Images/Vote_counting.png)\n",
    "\n",
    "* In this challenge, you are tasked with helping a small, rural town modernize its vote counting process.\n",
    "\n",
    "* You will be give a set of poll data called [election_data.csv](PyPoll/Resources/election_data.csv). The dataset is composed of three columns: `Voter ID`, `County`, and `Candidate`. Your task is to create a Python script that analyzes the votes and calculates each of the following:\n",
    "\n",
    "  * The total number of votes cast\n",
    "\n",
    "  * A complete list of candidates who received votes\n",
    "\n",
    "  * The percentage of votes each candidate won\n",
    "\n",
    "  * The total number of votes each candidate won\n",
    "\n",
    "  * The winner of the election based on popular vote.\n",
    "\n",
    "* As an example, your analysis should look similar to the one below:\n",
    "\n",
    "  ```text\n",
    "  Election Results\n",
    "  -------------------------\n",
    "  Total Votes: 3521001\n",
    "  -------------------------\n",
    "  Khan: 63.000% (2218231)\n",
    "  Correy: 20.000% (704200)\n",
    "  Li: 14.000% (492940)\n",
    "  O'Tooley: 3.000% (105630)\n",
    "  -------------------------\n",
    "  Winner: Khan\n",
    "  -------------------------\n",
    "  ```\n",
    "\n",
    "* In addition, your final script should both print the analysis to the terminal and export a text file with the results.\n",
    "\n",
    "## Hints and Considerations\n",
    "\n",
    "* Consider what we've learned so far. To date, we've learned how to import modules like `csv`; to read and write files in various formats; to store contents in variables, lists, and dictionaries; to iterate through basic data structures; and to debug along the way. Using what we've learned, try to break down your tasks into discrete mini-objectives. This will be a _much_ better course of action than spending all your time looking for a solution on Stack Overflow.\n",
    "\n",
    "* As you will discover, for some of these challenges, the datasets are quite large. This was done purposefully, as it showcases one of the limits of Excel-based analysis. While our first instinct, as data analysts, is often to head straight into Excel, creating scripts in Python can provide us with more robust options for handling \"big data\".\n",
    "\n",
    "* Write one script for each dataset provided. Run your script separately to make sure that the code works for its respective dataset.\n",
    "\n",
    "* Feel encouraged to work in groups, but don't shortchange yourself by copying someone else's work. You get what you put in, and the art of programming is extremely unforgiving to moochers. Dig your heels in, burn the night oil, and learn this while you can! These are skills that will pay dividends in your future career.\n",
    "\n",
    "* Start early, and reach out for help often! Challenge yourself to identify _specific_ questions for your instructors and TAs. Don't resign yourself to simply saying, \"I'm totally lost.\" If you need help, reach out because we're happy to help. But, come prepared and show us what you have done and your thought process.\n",
    "\n",
    "* Always commit your work and back it up with GitHub/GitLab pushes. You don't want to lose hours of your work because you didn't push it to GitHub/GitLab every half hour or so.\n",
    "\n",
    "  * Ensure your repository has regular commits (i.e. 20+ commits) and a thorough README.md file\n",
    "\n",
    "\n",
    "\n",
    "## Copyright\n",
    "\n",
    "© 2021 Trilogy Education Services, LLC, a 2U, Inc. brand. Confidential and Proprietary. All Rights Reserved.\n"
   ]
  },
  {
   "cell_type": "code",
   "execution_count": 1,
   "id": "embedded-founder",
   "metadata": {},
   "outputs": [],
   "source": [
    "## OMIMP\n",
    "## Andrew Anastasiades\n",
    "\n",
    "#  O   M   I   M   P  \n",
    "#  H   A       I   A  \n",
    "#      N       S   N\n",
    "#              S   D\n",
    "#                  A\n",
    "#                  S\n",
    "\n"
   ]
  },
  {
   "cell_type": "code",
   "execution_count": 2,
   "id": "alone-upper",
   "metadata": {},
   "outputs": [],
   "source": [
    "##Dependencies\n",
    "import os\n",
    "import csv"
   ]
  },
  {
   "cell_type": "code",
   "execution_count": 25,
   "id": "normal-auction",
   "metadata": {},
   "outputs": [],
   "source": [
    "##File Path Parameters\n",
    "budget_data_path = os.path.join(\"Resources\", \"budget_data.csv\") #Budget Data File Path\n",
    "results_file_path = os.path.join(\"Analysis\",\"Financial Analysis.txt\")"
   ]
  },
  {
   "cell_type": "code",
   "execution_count": 4,
   "id": "muslim-dealing",
   "metadata": {},
   "outputs": [],
   "source": [
    "##READ FILE\n",
    "data_list = list() #List to hold rows #OMIMP\n",
    "with open(budget_data_path) as budget_file:\n",
    "    csvreader = csv.reader(budget_file, delimiter=',') #Reader Object\n",
    "    header = next(csvreader) # Get Column Heads #OMIMP\n",
    "    for row in csvreader:\n",
    "        data_list.append(row)\n",
    "    #Now we can close File"
   ]
  },
  {
   "cell_type": "code",
   "execution_count": 46,
   "id": "fundamental-termination",
   "metadata": {},
   "outputs": [],
   "source": [
    "## ANALYZE DATA\n",
    "# Straightforward calculations\n",
    "total_months = len(data_list) #Each row is a month\n",
    "income_values = [int(row[1]) for row in data_list] #List comprehension to just get int(income values)\n",
    "total_income = sum(income_values)\n",
    "#Loop calculations\n",
    "greatest_increase = ['month',0] # [month , change]\n",
    "greatest_decrease = ['',0] # [month , change]\n",
    "changes = [] # we are going to add them as we go\n",
    "for i in range(len(income_values)):\n",
    "    if i>0: #want to avoid index error\n",
    "        change = income_values[i] - income_values[i-1]\n",
    "        changes.append(change)\n",
    "        if change>greatest_increase[1]:\n",
    "            greatest_increase = [data_list[i][0], change]\n",
    "        if change<greatest_decrease[1]:\n",
    "            greatest_decrease = [data_list[i][0], change]\n",
    "            \n",
    "average_change = sum(changes) / len(changes)\n",
    "#Alternatively, you can drop the 'changes' list and do the following, but instructions implied I needed to use a list\n",
    "#ave_num_2 = (income_values[len(income_values)-1] - income_values[0])/(total_months-1)\n",
    "changes_2 = [income_values[i]-income_values[i-1] for i in range(1, len(income_values))]\n",
    "greatest = max(changes_2)\n",
    "least = min(changes_2)"
   ]
  },
  {
   "cell_type": "code",
   "execution_count": 33,
   "id": "special-feeding",
   "metadata": {},
   "outputs": [
    {
     "name": "stdout",
     "output_type": "stream",
     "text": [
      "Financial Analysis\n",
      "--------------------------\n",
      "Total Months: 86\n",
      "Total: $38382578\n",
      "Average Change: $-2315.1176470588234\n"
     ]
    }
   ],
   "source": [
    "##WRITE RESULTS \n",
    "with open(results_file_path, \"w\") as results:\n",
    "    \n",
    "    results.write(f\"Financial Analysis\")\n",
    "    print(f\"Financial Analysis\")\n",
    "    \n",
    "    results.write(f\"--------------------------\")\n",
    "    print(f\"--------------------------\")\n",
    "    \n",
    "    results.write(f\"Total Months: {total_months}\")\n",
    "    print(f\"Total Months: {total_months}\")\n",
    "    \n",
    "    results.write(f\"Total: {total_income}\")\n",
    "    print(f\"Total: ${total_income}\")\n",
    "    \n",
    "    results.write(f\"Average Change: ${average_change}\")\n",
    "    print(f\"Average Change: ${average_change}\")\n",
    "    \n",
    "    "
   ]
  },
  {
   "cell_type": "code",
   "execution_count": 35,
   "id": "different-improvement",
   "metadata": {},
   "outputs": [
    {
     "data": {
      "text/plain": [
       "-2315.1176470588234"
      ]
     },
     "execution_count": 35,
     "metadata": {},
     "output_type": "execute_result"
    }
   ],
   "source": [
    "average_change"
   ]
  },
  {
   "cell_type": "code",
   "execution_count": 38,
   "id": "infrared-helping",
   "metadata": {},
   "outputs": [
    {
     "data": {
      "text/plain": [
       "-2315.1176470588234"
      ]
     },
     "execution_count": 38,
     "metadata": {},
     "output_type": "execute_result"
    }
   ],
   "source": [
    "ave_num_2"
   ]
  },
  {
   "cell_type": "code",
   "execution_count": 45,
   "id": "documentary-popularity",
   "metadata": {},
   "outputs": [
    {
     "data": {
      "text/plain": [
       "[116771,\n",
       " -662642,\n",
       " -391430,\n",
       " 379920,\n",
       " 212354,\n",
       " 510239,\n",
       " -428211,\n",
       " -821271,\n",
       " 693918,\n",
       " 416278,\n",
       " -974163,\n",
       " 860159,\n",
       " -1115009,\n",
       " 1033048,\n",
       " 95318,\n",
       " -308093,\n",
       " 99052,\n",
       " -521393,\n",
       " 605450,\n",
       " 231727,\n",
       " -65187,\n",
       " -702716,\n",
       " 177975,\n",
       " -1065544,\n",
       " 1926159,\n",
       " -917805,\n",
       " 898730,\n",
       " -334262,\n",
       " -246499,\n",
       " -64055,\n",
       " -1529236,\n",
       " 1497596,\n",
       " 304914,\n",
       " -635801,\n",
       " 398319,\n",
       " -183161,\n",
       " -37864,\n",
       " -253689,\n",
       " 403655,\n",
       " 94168,\n",
       " 306877,\n",
       " -83000,\n",
       " 210462,\n",
       " -2196167,\n",
       " 1465222,\n",
       " -956983,\n",
       " 1838447,\n",
       " -468003,\n",
       " -64602,\n",
       " 206242,\n",
       " -242155,\n",
       " -449079,\n",
       " 315198,\n",
       " 241099,\n",
       " 111540,\n",
       " 365942,\n",
       " -219310,\n",
       " -368665,\n",
       " 409837,\n",
       " 151210,\n",
       " -110244,\n",
       " -341938,\n",
       " -1212159,\n",
       " 683246,\n",
       " -70825,\n",
       " 335594,\n",
       " 417334,\n",
       " -272194,\n",
       " -236462,\n",
       " 657432,\n",
       " -211262,\n",
       " -128237,\n",
       " -1750387,\n",
       " 925441,\n",
       " 932089,\n",
       " -311434,\n",
       " 267252,\n",
       " -1876758,\n",
       " 1733696,\n",
       " 198551,\n",
       " -665765,\n",
       " 693229,\n",
       " -734926,\n",
       " 77242,\n",
       " 532869]"
      ]
     },
     "execution_count": 45,
     "metadata": {},
     "output_type": "execute_result"
    }
   ],
   "source": [
    "changes_2"
   ]
  },
  {
   "cell_type": "code",
   "execution_count": null,
   "id": "mexican-mattress",
   "metadata": {},
   "outputs": [],
   "source": []
  },
  {
   "cell_type": "raw",
   "id": "aerial-scanning",
   "metadata": {},
   "source": [
    "changes"
   ]
  },
  {
   "cell_type": "code",
   "execution_count": null,
   "id": "editorial-easter",
   "metadata": {},
   "outputs": [],
   "source": []
  }
 ],
 "metadata": {
  "kernelspec": {
   "display_name": "Python [conda env:PythonData] *",
   "language": "python",
   "name": "conda-env-PythonData-py"
  },
  "language_info": {
   "codemirror_mode": {
    "name": "ipython",
    "version": 3
   },
   "file_extension": ".py",
   "mimetype": "text/x-python",
   "name": "python",
   "nbconvert_exporter": "python",
   "pygments_lexer": "ipython3",
   "version": "3.6.10"
  }
 },
 "nbformat": 4,
 "nbformat_minor": 5
}
