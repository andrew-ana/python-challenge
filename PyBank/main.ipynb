{
 "cells": [
  {
   "cell_type": "code",
   "execution_count": 1,
   "id": "prescribed-brazil",
   "metadata": {},
   "outputs": [],
   "source": [
    "## OMIMP\n",
    "## Andrew Anastasiades\n",
    "\n",
    "#  O   M   I   M   P  \n",
    "#  H   A       I   A  \n",
    "#      N       S   N\n",
    "#              S   D\n",
    "#                  A\n",
    "#                  S\n"
   ]
  },
  {
   "cell_type": "code",
   "execution_count": 2,
   "id": "loaded-corpus",
   "metadata": {},
   "outputs": [],
   "source": [
    "##Dependencies\n",
    "import os\n",
    "import csv"
   ]
  },
  {
   "cell_type": "code",
   "execution_count": 25,
   "id": "southwest-boundary",
   "metadata": {},
   "outputs": [],
   "source": [
    "##File Path Parameters\n",
    "budget_data_path = os.path.join(\"Resources\", \"budget_data.csv\") #Budget Data File Path\n",
    "results_file_path = os.path.join(\"Analysis\",\"Financial Analysis.txt\")"
   ]
  },
  {
   "cell_type": "code",
   "execution_count": 4,
   "id": "negative-montana",
   "metadata": {},
   "outputs": [],
   "source": [
    "##READ FILE\n",
    "data_list = list() #List to hold rows #OMIMP\n",
    "with open(budget_data_path) as budget_file:\n",
    "    csvreader = csv.reader(budget_file, delimiter=',') #Reader Object\n",
    "    header = next(csvreader) # Get Column Heads #OMIMP\n",
    "    for row in csvreader:\n",
    "        data_list.append(row)\n",
    "    #Now we can close File\n"
   ]
  },
  {
   "cell_type": "code",
   "execution_count": 55,
   "id": "super-japan",
   "metadata": {},
   "outputs": [],
   "source": [
    "## ANALYZE DATA\n",
    "# List Comprehensions to make life easier\n",
    "month_list = [row[0] for row in data_list] #MONTHS\n",
    "income_values = [int(row[1]) for row in data_list] #INCOME\n",
    "changes = [income_values[i]-income_values[i-1] for i in range(1, len(income_values))] #CHANGES\n",
    "\n",
    "total_months = len(month_list)\n",
    "total_income = sum(income_values)\n",
    "\n",
    "\n",
    "average_change = sum(changes) / len(changes)\n",
    "greatest = max(changes)\n",
    "least = min(changes)\n",
    "\n",
    "greatest_increase = [month_list[changes.index(greatest)+1], greatest] # you have to add one to month index bcause first month has no change\n",
    "greatest_decrease = [month_list[changes.index(least)+1], least] # [month , change]\n"
   ]
  },
  {
   "cell_type": "code",
   "execution_count": 56,
   "id": "happy-magazine",
   "metadata": {},
   "outputs": [
    {
     "name": "stdout",
     "output_type": "stream",
     "text": [
      "Financial Analysis\n",
      "--------------------------\n",
      "Total Months: 86\n",
      "Total: $38382578\n",
      "Average Change: $-2315.1176470588234\n",
      "Greatest Increase in Profits: Feb-2012 ($1926159)\n",
      "Greatest Decrease in Profits: Sep-2013 ($-2196167)\n"
     ]
    }
   ],
   "source": [
    "##WRITE RESULTS \n",
    "with open(results_file_path, \"w\") as results:\n",
    "    \n",
    "    results.write(f\"Financial Analysis\")\n",
    "    print(f\"Financial Analysis\")\n",
    "    \n",
    "    results.write(f\"--------------------------\")\n",
    "    print(f\"--------------------------\")\n",
    "    \n",
    "    results.write(f\"Total Months: {total_months}\")\n",
    "    print(f\"Total Months: {total_months}\")\n",
    "    \n",
    "    results.write(f\"Total: {total_income}\")\n",
    "    print(f\"Total: ${total_income}\")\n",
    "    \n",
    "    results.write(f\"Average Change: ${average_change}\")\n",
    "    print(f\"Average Change: ${average_change}\")\n",
    "    \n",
    "    results.write(f\"Greatest Increase in Profits: {greatest_increase[0]} (${greatest_increase[1]})\")\n",
    "    print(f\"Greatest Increase in Profits: {greatest_increase[0]} (${greatest_increase[1]})\")\n",
    "    \n",
    "    results.write(f\"Greatest Decrease in Profits: {greatest_decrease[0]} (${greatest_decrease[1]})\")\n",
    "    print(f\"Greatest Decrease in Profits: {greatest_decrease[0]} (${greatest_decrease[1]})\")\n",
    "    "
   ]
  }
 ],
 "metadata": {
  "kernelspec": {
   "display_name": "Python [conda env:PythonData] *",
   "language": "python",
   "name": "conda-env-PythonData-py"
  },
  "language_info": {
   "codemirror_mode": {
    "name": "ipython",
    "version": 3
   },
   "file_extension": ".py",
   "mimetype": "text/x-python",
   "name": "python",
   "nbconvert_exporter": "python",
   "pygments_lexer": "ipython3",
   "version": "3.6.10"
  }
 },
 "nbformat": 4,
 "nbformat_minor": 5
}
